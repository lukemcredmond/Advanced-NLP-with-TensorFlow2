{
 "cells": [
  {
   "cell_type": "code",
   "execution_count": 1,
   "metadata": {},
   "outputs": [],
   "source": [
    "#tensorflow_version 2.x\n",
    "import tensorflow as tf\n",
    "#from tf.keras.models import Sequential\n",
    "#from tf.keras.layers import Dense\n"
   ]
  },
  {
   "cell_type": "markdown",
   "metadata": {},
   "source": [
    "#Init GPU"
   ]
  },
  {
   "cell_type": "code",
   "execution_count": 2,
   "metadata": {},
   "outputs": [
    {
     "name": "stdout",
     "output_type": "stream",
     "text": [
      "PhysicalDevice(name='/physical_device:GPU:0', device_type='GPU')\n",
      "1 Physical GPUs, 1 Logical GPU\n"
     ]
    }
   ],
   "source": [
    "######## GPU CONFIGS FOR RTX 2070 ###############\n",
    "## Please ignore if not training on GPU       ##\n",
    "## this is important for running CuDNN on GPU ##\n",
    "\n",
    "tf.keras.backend.clear_session() #- for easy reset of notebook state\n",
    "\n",
    "# chck if GPU can be seen by TF\n",
    "tf.config.list_physical_devices('GPU')\n",
    "# only if you want to see how commands are executed\n",
    "#tf.debugging.set_log_device_placement(True)\n",
    "gpus = tf.config.experimental.list_physical_devices('GPU')\n",
    "if gpus:\n",
    "  # Restrict TensorFlow to only use the first GPU\n",
    "  print(gpus[0])\n",
    "  try:\n",
    "    tf.config.experimental.set_memory_growth(gpus[0], True)\n",
    "    tf.config.experimental.set_visible_devices(gpus[0], 'GPU')\n",
    "    logical_gpus = tf.config.experimental.list_logical_devices('GPU')\n",
    "    print(len(gpus), \"Physical GPUs,\", len(logical_gpus), \"Logical GPU\")\n",
    "  except RuntimeError as e:\n",
    "    # Visible devices must be set before GPUs have been initialized\n",
    "    print(e)\n",
    "###############################################"
   ]
  },
  {
   "cell_type": "code",
   "execution_count": 4,
   "metadata": {},
   "outputs": [
    {
     "name": "stderr",
     "output_type": "stream",
     "text": [
      "Downloading https://raw.githubusercontent.com/stanfordnlp/stanza-resources/main/resources_1.3.0.json: 142kB [00:00, 4.30MB/s]                    \n",
      "2022-03-10 20:48:21 INFO: Downloading default packages for language: en (English)...\n",
      "2022-03-10 20:48:23 INFO: File exists: C:\\Users\\lukem\\stanza_resources\\en\\default.zip.\n",
      "2022-03-10 20:48:28 INFO: Finished downloading models and saved to C:\\Users\\lukem\\stanza_resources.\n"
     ]
    },
    {
     "data": {
      "text/plain": [
       "'2.7.0'"
      ]
     },
     "execution_count": 4,
     "metadata": {},
     "output_type": "execute_result"
    }
   ],
   "source": [
    "import os\n",
    "import io\n",
    "import torch\n",
    "import stanza\n",
    "import pandas as pd \n",
    "import re\n",
    "import os.path\n",
    "import stopwordsiso as stopwords\n",
    "\n",
    "\n",
    "from os import path\n",
    "\n",
    "\n",
    "en = stanza.download('en') \n",
    "\n",
    "\n",
    "\n",
    "\n",
    "\n",
    "tf.__version__"
   ]
  },
  {
   "cell_type": "markdown",
   "metadata": {},
   "source": [
    "#Download Data\n",
    "\n",
    "Download the file\n",
    "Save into a temp location\n",
    "\n",
    "Unzip does not work in a windows enviroment\n"
   ]
  },
  {
   "cell_type": "code",
   "execution_count": 5,
   "metadata": {},
   "outputs": [
    {
     "data": {
      "text/plain": [
       "'ham\\tGo until jurong point, crazy.. Available only in bugis n great world la e buffet... Cine there got amore wat...'"
      ]
     },
     "execution_count": 5,
     "metadata": {},
     "output_type": "execute_result"
    }
   ],
   "source": [
    "\n",
    "if not (path.exists(\"../data/spam/smsspamcollection.zip\")):\n",
    "    path_to_zip = tf.keras.utils.get_file(\"F:\\\\Users\\\\Luke\\\\Documents\\\\Git\\\\NPL\\\\Advanced-NLP-with-TensorFlow2\\\\data\\\\Spam\\\\smsspamcollection.zip\",\n",
    "                  origin=\"https://archive.ics.uci.edu/ml/machine-learning-databases/00228/smsspamcollection.zip\",\n",
    "                  extract=True)\n",
    "\n",
    "    !unzip $path_to_zip -d data\n",
    "\n",
    "lines = io.open('../data/spam/SMSSpamCollection').read().strip().split('\\n')\n",
    "lines[0]"
   ]
  },
  {
   "cell_type": "markdown",
   "metadata": {},
   "source": [
    "#Pre-Process Data"
   ]
  },
  {
   "cell_type": "code",
   "execution_count": 6,
   "metadata": {},
   "outputs": [
    {
     "name": "stdout",
     "output_type": "stream",
     "text": [
      "(0, 'Go until jurong point, crazy.. Available only in bugis n great world la e buffet... Cine there got amore wat...')\n",
      "Spam:  747\n"
     ]
    }
   ],
   "source": [
    "spam_dataset = []\n",
    "count = 0\n",
    "for line in lines:\n",
    "  label, text = line.split('\\t')\n",
    "  if label.lower().strip() == 'spam':\n",
    "    spam_dataset.append((1, text.strip()))\n",
    "    count += 1\n",
    "  else:\n",
    "    spam_dataset.append(((0, text.strip())))\n",
    "\n",
    "print(spam_dataset[0])\n",
    "print(\"Spam: \", count)"
   ]
  },
  {
   "cell_type": "markdown",
   "metadata": {},
   "source": [
    "#Data Normalization"
   ]
  },
  {
   "cell_type": "code",
   "execution_count": null,
   "metadata": {},
   "outputs": [],
   "source": [
    "\n",
    "en = stanza.Pipeline(lang='en')\n",
    "en_sw = stopwords.stopwords('en')\n",
    "df = pd.DataFrame(spam_dataset, columns=['Spam', 'Message'])\n",
    "#train=df.sample(frac=0.8,random_state=42) #random state is a seed value\n",
    "#test=df.drop(train.index)\n",
    "\n",
    "# Normalization functions\n",
    "\n",
    "#def message_length(x):\n",
    "#  # returns total number of characters\n",
    "#  return len(x)\n",
    "\n",
    "#def num_capitals(x):\n",
    "#  _, count = re.subn(r'[A-Z]', '', x) # only works in english\n",
    "#  return count\n",
    "\n",
    "#def num_punctuation(x):\n",
    "#  _, count = re.subn(r'\\W', '', x)\n",
    "#  return count\n",
    "\n",
    "#def word_counts(x, pipeline=en):\n",
    "#  doc = pipeline(x)\n",
    "#  count = sum( [ len(sentence.tokens) for sentence in doc.sentences] )\n",
    "#  return count\n",
    "\n",
    "#def word_counts_clean(x, pipeline=en):\n",
    "#  doc = pipeline(x)\n",
    "#  count = 0\n",
    "#  for sentence in doc.sentences:\n",
    "#    for token in sentence.tokens:\n",
    "#        if token.text.lower() not in en_sw:\n",
    "#          count += 1\n",
    "#  return count\n",
    "\n",
    "#df['Capitals'] = df['Message'].apply(num_capitals)\n",
    "#df['Punctuation'] = df['Message'].apply(num_punctuation)\n",
    "#df['Length'] = df['Message'].apply(message_length)\n",
    "#df['Words'] = df['Message'].apply(word_counts)\n",
    "#df['CleanWords'] = df['Message'].apply(word_counts_clean)\n",
    "\n",
    "def normaliseData(x, pipeline=en):\n",
    "  try:\n",
    "    print(\"\\rprocessing line: \"+x)\n",
    "    doc = pipeline(x)\n",
    "    length = len(x)\n",
    "    _, capCount = re.subn(r'[A-Z]', '', x)\n",
    "    _, punctuationCount = re.subn(r'\\W', '', x)\n",
    "  \n",
    "    wordCount = sum( [ len(sentence.tokens) for sentence in doc.sentences] )\n",
    "    totals = 0.\n",
    "    count = 0.\n",
    "    non_word = 0.\n",
    "    for sentence in doc.sentences:\n",
    "      totals += len(sentence.tokens)  # (1)\n",
    "      for token in sentence.tokens:\n",
    "          if token.text.lower() not in en_sw:\n",
    "            if token.words[0].upos not in ['PUNCT', 'SYM']:\n",
    "              count += 1.\n",
    "            else:\n",
    "              non_word += 1.\n",
    "    non_word = non_word / totals\n",
    "  except:\n",
    "    capCount = -1\n",
    "    punctuationCount = -1\n",
    "    length = -1\n",
    "    wordCount = -1\n",
    "    count = -1\n",
    "    non_word = -1\n",
    "    print(\"Error processing line: \"+x)\n",
    "  finally:\n",
    "    return pd.Series([capCount,punctuationCount,length,wordCount,count, non_word], \n",
    "    index=['Capitals','Punctuation','Length','Words','Words_NoPunct', 'Punct'])\n",
    "\n",
    "\n",
    "if not (path.exists(\"../data/spam/model\")):\n",
    "  tmp_df = df['Message'].apply(normaliseData)\n",
    "  df = pd.concat([df, tmp_df], axis=1)\n",
    "  df.to_pickle(\"../data/spam/normaliseData.pkl\")\n",
    "else:\n",
    "  df = pd.read_pickle(\"../data/spam/normaliseData.pkl\")\n",
    "\n",
    "train=df.sample(frac=0.8,random_state=42) #random state is a seed value\n",
    "test=df.drop(train.index)\n",
    "\n"
   ]
  },
  {
   "cell_type": "code",
   "execution_count": 39,
   "metadata": {},
   "outputs": [
    {
     "data": {
      "text/html": [
       "<div>\n",
       "<style scoped>\n",
       "    .dataframe tbody tr th:only-of-type {\n",
       "        vertical-align: middle;\n",
       "    }\n",
       "\n",
       "    .dataframe tbody tr th {\n",
       "        vertical-align: top;\n",
       "    }\n",
       "\n",
       "    .dataframe thead th {\n",
       "        text-align: right;\n",
       "    }\n",
       "</style>\n",
       "<table border=\"1\" class=\"dataframe\">\n",
       "  <thead>\n",
       "    <tr style=\"text-align: right;\">\n",
       "      <th></th>\n",
       "      <th>Spam</th>\n",
       "      <th>Capitals</th>\n",
       "      <th>Punctuation</th>\n",
       "      <th>Length</th>\n",
       "      <th>Words</th>\n",
       "      <th>Words_NoPunct</th>\n",
       "      <th>Punct</th>\n",
       "    </tr>\n",
       "  </thead>\n",
       "  <tbody>\n",
       "    <tr>\n",
       "      <th>count</th>\n",
       "      <td>4459.000000</td>\n",
       "      <td>4459.000000</td>\n",
       "      <td>4459.000000</td>\n",
       "      <td>4459.000000</td>\n",
       "      <td>4459.000000</td>\n",
       "      <td>4459.000000</td>\n",
       "      <td>4459.000000</td>\n",
       "    </tr>\n",
       "    <tr>\n",
       "      <th>mean</th>\n",
       "      <td>0.132765</td>\n",
       "      <td>5.405248</td>\n",
       "      <td>18.737385</td>\n",
       "      <td>79.694550</td>\n",
       "      <td>18.533752</td>\n",
       "      <td>6.381924</td>\n",
       "      <td>0.142315</td>\n",
       "    </tr>\n",
       "    <tr>\n",
       "      <th>std</th>\n",
       "      <td>0.339359</td>\n",
       "      <td>11.332793</td>\n",
       "      <td>14.641426</td>\n",
       "      <td>59.476952</td>\n",
       "      <td>13.680827</td>\n",
       "      <td>5.617551</td>\n",
       "      <td>0.124327</td>\n",
       "    </tr>\n",
       "    <tr>\n",
       "      <th>min</th>\n",
       "      <td>0.000000</td>\n",
       "      <td>-1.000000</td>\n",
       "      <td>-1.000000</td>\n",
       "      <td>-1.000000</td>\n",
       "      <td>-1.000000</td>\n",
       "      <td>-1.000000</td>\n",
       "      <td>-1.000000</td>\n",
       "    </tr>\n",
       "    <tr>\n",
       "      <th>25%</th>\n",
       "      <td>0.000000</td>\n",
       "      <td>1.000000</td>\n",
       "      <td>8.000000</td>\n",
       "      <td>35.000000</td>\n",
       "      <td>9.000000</td>\n",
       "      <td>2.000000</td>\n",
       "      <td>0.090909</td>\n",
       "    </tr>\n",
       "    <tr>\n",
       "      <th>50%</th>\n",
       "      <td>0.000000</td>\n",
       "      <td>2.000000</td>\n",
       "      <td>14.000000</td>\n",
       "      <td>61.000000</td>\n",
       "      <td>15.000000</td>\n",
       "      <td>4.000000</td>\n",
       "      <td>0.142857</td>\n",
       "    </tr>\n",
       "    <tr>\n",
       "      <th>75%</th>\n",
       "      <td>0.000000</td>\n",
       "      <td>4.000000</td>\n",
       "      <td>27.000000</td>\n",
       "      <td>121.000000</td>\n",
       "      <td>27.000000</td>\n",
       "      <td>9.000000</td>\n",
       "      <td>0.200000</td>\n",
       "    </tr>\n",
       "    <tr>\n",
       "      <th>max</th>\n",
       "      <td>1.000000</td>\n",
       "      <td>129.000000</td>\n",
       "      <td>253.000000</td>\n",
       "      <td>910.000000</td>\n",
       "      <td>209.000000</td>\n",
       "      <td>54.000000</td>\n",
       "      <td>0.666667</td>\n",
       "    </tr>\n",
       "  </tbody>\n",
       "</table>\n",
       "</div>"
      ],
      "text/plain": [
       "              Spam     Capitals  Punctuation       Length        Words  \\\n",
       "count  4459.000000  4459.000000  4459.000000  4459.000000  4459.000000   \n",
       "mean      0.132765     5.405248    18.737385    79.694550    18.533752   \n",
       "std       0.339359    11.332793    14.641426    59.476952    13.680827   \n",
       "min       0.000000    -1.000000    -1.000000    -1.000000    -1.000000   \n",
       "25%       0.000000     1.000000     8.000000    35.000000     9.000000   \n",
       "50%       0.000000     2.000000    14.000000    61.000000    15.000000   \n",
       "75%       0.000000     4.000000    27.000000   121.000000    27.000000   \n",
       "max       1.000000   129.000000   253.000000   910.000000   209.000000   \n",
       "\n",
       "       Words_NoPunct        Punct  \n",
       "count    4459.000000  4459.000000  \n",
       "mean        6.381924     0.142315  \n",
       "std         5.617551     0.124327  \n",
       "min        -1.000000    -1.000000  \n",
       "25%         2.000000     0.090909  \n",
       "50%         4.000000     0.142857  \n",
       "75%         9.000000     0.200000  \n",
       "max        54.000000     0.666667  "
      ]
     },
     "execution_count": 39,
     "metadata": {},
     "output_type": "execute_result"
    }
   ],
   "source": [
    "train.describe()"
   ]
  },
  {
   "cell_type": "code",
   "execution_count": 9,
   "metadata": {},
   "outputs": [],
   "source": [
    "# Basic 1-layer neural network model for evaluation\n",
    "def make_model(input_dims=3, num_units=12):\n",
    "  model = tf.keras.Sequential()\n",
    "\n",
    "  # Adds a densely-connected layer with 12 units to the model:\n",
    "  model.add(tf.keras.layers.Dense(num_units, \n",
    "                                  input_dim=input_dims, \n",
    "                                  activation='relu'))\n",
    "\n",
    "  # Add a sigmoid layer with a binary output unit:\n",
    "  model.add(tf.keras.layers.Dense(1, activation='sigmoid'))\n",
    "  model.compile(loss='binary_crossentropy', optimizer='adam', \n",
    "                metrics=['accuracy'])\n",
    "  return model"
   ]
  },
  {
   "cell_type": "code",
   "execution_count": null,
   "metadata": {},
   "outputs": [],
   "source": [
    "#train.head(10)"
   ]
  },
  {
   "cell_type": "code",
   "execution_count": 12,
   "metadata": {},
   "outputs": [
    {
     "name": "stdout",
     "output_type": "stream",
     "text": [
      "Epoch 1/10\n",
      "446/446 [==============================] - 5s 9ms/step - loss: 4.2601 - accuracy: 0.6892\n",
      "Epoch 2/10\n",
      "446/446 [==============================] - 4s 9ms/step - loss: 0.4369 - accuracy: 0.8784\n",
      "Epoch 3/10\n",
      "446/446 [==============================] - 4s 8ms/step - loss: 0.2504 - accuracy: 0.9282\n",
      "Epoch 4/10\n",
      "446/446 [==============================] - 4s 8ms/step - loss: 0.2025 - accuracy: 0.9401\n",
      "Epoch 5/10\n",
      "446/446 [==============================] - 4s 9ms/step - loss: 0.1820 - accuracy: 0.9446\n",
      "Epoch 6/10\n",
      "446/446 [==============================] - 4s 9ms/step - loss: 0.1801 - accuracy: 0.9424\n",
      "Epoch 7/10\n",
      "446/446 [==============================] - 4s 9ms/step - loss: 0.1740 - accuracy: 0.9433\n",
      "Epoch 8/10\n",
      "446/446 [==============================] - 4s 9ms/step - loss: 0.1737 - accuracy: 0.9419\n",
      "Epoch 9/10\n",
      "446/446 [==============================] - 4s 8ms/step - loss: 0.1670 - accuracy: 0.9426\n",
      "Epoch 10/10\n",
      "446/446 [==============================] - 4s 8ms/step - loss: 0.1697 - accuracy: 0.9453\n",
      "35/35 [==============================] - 0s 6ms/step - loss: 0.1918 - accuracy: 0.9417\n",
      "INFO:tensorflow:Assets written to: ../data/spam/model\\assets\n"
     ]
    }
   ],
   "source": [
    "\n",
    "\n",
    "#train['Words'] = train['Message'].apply(word_counts)\n",
    "#test['Words'] = test['Message'].apply(word_counts)\n",
    "x_train = train[['Capitals','Punctuation','Length','Words','Words_NoPunct', 'Punct']]\n",
    "y_train = train[['Spam']]\n",
    "\n",
    "x_test = test[['Capitals','Punctuation','Length','Words','Words_NoPunct', 'Punct']]\n",
    "y_test = test[['Spam']]\n",
    "\n",
    "\n",
    "if not (path.exists(\"../data/spam/model\")):\n",
    "    model = make_model(input_dims=6)\n",
    "    model.fit(x_train, y_train, epochs=10, batch_size=10)\n",
    "    model.evaluate(x_test, y_test)\n",
    "    model.save('../data/spam/model')\n",
    "else:\n",
    "    model = tf.keras.models.load_model('../data/spam/model')\n",
    "\n",
    "y_train_pred = model.predict(x_train)\n",
    "y_test_pred = model.predict(x_test)\n",
    "\n",
    "\n",
    "\n"
   ]
  },
  {
   "cell_type": "markdown",
   "metadata": {},
   "source": [
    "#Closer to on"
   ]
  },
  {
   "cell_type": "code",
   "execution_count": 59,
   "metadata": {},
   "outputs": [
    {
     "name": "stdout",
     "output_type": "stream",
     "text": [
      "processing line: Sunshine Quiz Wkly Q! Win a top Sony DVD player if u know which country the Algarve is in? Txt ansr to 82277. £1.50 SP:Tyrone\n"
     ]
    },
    {
     "data": {
      "text/plain": [
       "0.7698292"
      ]
     },
     "execution_count": 59,
     "metadata": {},
     "output_type": "execute_result"
    }
   ],
   "source": [
    "def checkIfMsgIsSpam(msg):\n",
    "    sample = pd.DataFrame([msg], columns=['Message'])\n",
    "    tmp_sample = sample['Message'].apply(normaliseData)\n",
    "    #tmp_sample.head()\n",
    "    sample = pd.concat([sample, tmp_sample], axis=1)\n",
    "    sample_pred = model.predict(sample[['Capitals','Punctuation','Length','Words','Words_NoPunct', 'Punct']])\n",
    "    return sample_pred\n",
    "\n",
    "\n",
    "sample_pred = checkIfMsgIsSpam(\"Sunshine Quiz Wkly Q! Win a top Sony DVD player if u know which country the Algarve is in? Txt ansr to 82277. £1.50 SP:Tyrone\")\n",
    "\n",
    "sample_pred[0][0]"
   ]
  },
  {
   "cell_type": "code",
   "execution_count": 54,
   "metadata": {},
   "outputs": [
    {
     "data": {
      "text/plain": [
       "array([0., 0., 0., ..., 0., 0., 0.], dtype=float32)"
      ]
     },
     "execution_count": 54,
     "metadata": {},
     "output_type": "execute_result"
    }
   ],
   "source": [
    "import numpy as np\n",
    "t = np.squeeze(y_test_pred).round() #.tolist()\n",
    "\n",
    "t\n"
   ]
  },
  {
   "cell_type": "code",
   "execution_count": null,
   "metadata": {},
   "outputs": [],
   "source": [
    "y_test['Spam'].values.tolist()"
   ]
  },
  {
   "cell_type": "code",
   "execution_count": 56,
   "metadata": {},
   "outputs": [
    {
     "name": "stdout",
     "output_type": "stream",
     "text": [
      "Confusion matrix, without normalization\n"
     ]
    },
    {
     "data": {
      "image/png": "[encoded data removed]",
      "text/plain": [
       "<Figure size 432x288 with 2 Axes>"
      ]
     },
     "metadata": {
      "needs_background": "light"
     },
     "output_type": "display_data"
    }
   ],
   "source": [
    "import matplotlib.pyplot as plt\n",
    "from sklearn import metrics\n",
    "import itertools\n",
    "\n",
    "def plot_confusion_matrix(cm, classes,\n",
    "                          normalize=False,\n",
    "                          title='Confusion matrix',\n",
    "                          cmap=plt.cm.Blues):\n",
    "    \"\"\"\n",
    "    See full source and example: \n",
    "    http://scikit-learn.org/stable/auto_examples/model_selection/plot_confusion_matrix.html\n",
    "    \n",
    "    This function prints and plots the confusion matrix.\n",
    "    Normalization can be applied by setting `normalize=True`.\n",
    "    \"\"\"\n",
    "    plt.imshow(cm, interpolation='nearest', cmap=cmap)\n",
    "    plt.title(title)\n",
    "    plt.colorbar()\n",
    "    tick_marks = np.arange(len(classes))\n",
    "    plt.xticks(tick_marks, classes, rotation=45)\n",
    "    plt.yticks(tick_marks, classes)\n",
    "\n",
    "    if normalize:\n",
    "        cm = cm.astype('float') / cm.sum(axis=1)[:, np.newaxis]\n",
    "        print(\"Normalized confusion matrix\")\n",
    "    else:\n",
    "        print('Confusion matrix, without normalization')\n",
    "\n",
    "    thresh = cm.max() / 2.\n",
    "    for i, j in itertools.product(range(cm.shape[0]), range(cm.shape[1])):\n",
    "        plt.text(j, i, cm[i, j],\n",
    "                 horizontalalignment=\"center\",\n",
    "                 color=\"white\" if cm[i, j] > thresh else \"black\")\n",
    "\n",
    "    plt.tight_layout()\n",
    "    plt.ylabel('True label')\n",
    "    plt.xlabel('Predicted label')\n",
    "\n",
    "\n",
    "\n",
    "cm = metrics.confusion_matrix(y_test['Spam'].values.tolist(), t)\n",
    "plot_confusion_matrix(cm, classes=['Ham', 'Spam'])"
   ]
  },
  {
   "cell_type": "code",
   "execution_count": null,
   "metadata": {},
   "outputs": [],
   "source": [
    "\n"
   ]
  },
  {
   "cell_type": "code",
   "execution_count": null,
   "metadata": {},
   "outputs": [],
   "source": [
    "y_train"
   ]
  },
  {
   "cell_type": "code",
   "execution_count": 22,
   "metadata": {},
   "outputs": [
    {
     "data": {
      "text/plain": [
       "array([[0.00252632],\n",
       "       [0.01168844],\n",
       "       [0.03557014],\n",
       "       ...,\n",
       "       [0.17161897],\n",
       "       [0.01739425],\n",
       "       [0.01193297]], dtype=float32)"
      ]
     },
     "execution_count": 22,
     "metadata": {},
     "output_type": "execute_result"
    }
   ],
   "source": [
    "y_test_pred"
   ]
  },
  {
   "cell_type": "markdown",
   "metadata": {},
   "source": [
    "#Tokenization and Stop Word Removal"
   ]
  },
  {
   "cell_type": "code",
   "execution_count": null,
   "metadata": {},
   "outputs": [],
   "source": [
    "# StanfordNLP has become https://github.com/stanfordnlp/stanza/\n",
    "#!pip install stanza  "
   ]
  },
  {
   "cell_type": "code",
   "execution_count": null,
   "metadata": {},
   "outputs": [],
   "source": [
    "#sentence = 'Go until jurong point, crazy.. Available only in bugis n great world'\n",
    "#sentence.split()"
   ]
  },
  {
   "cell_type": "code",
   "execution_count": null,
   "metadata": {},
   "outputs": [],
   "source": [
    "#tokenized = en(sentence)\n",
    "#len(tokenized.sentences)\n",
    "\n",
    "\n",
    "#for snt in tokenized.sentences:\n",
    "#  for word in snt.tokens:\n",
    "#    print(word.text)\n",
    "#  print(\"<End of Sentence>\")"
   ]
  },
  {
   "cell_type": "code",
   "execution_count": null,
   "metadata": {},
   "outputs": [],
   "source": [
    "\n",
    "#train['Words'] = train['Message'].apply(word_counts)\n",
    "#test['Words'] = test['Message'].apply(word_counts)\n",
    "#x_train = train[['Length', 'Punctuation', 'Capitals', 'Words']]\n",
    "#y_train = train[['Spam']]\n",
    "\n",
    "#x_test = test[['Length', 'Punctuation', 'Capitals' , 'Words']]\n",
    "#y_test = test[['Spam']]\n",
    "\n",
    "\n",
    "#if not (path.exists(\"../data/spam/model2\")):\n",
    "#    model = make_model(input_dims=4)\n",
    "#    model.fit(x_train, y_train, epochs=10, batch_size=10)\n",
    "#    model.evaluate(x_test, y_test)\n",
    "#    model.save('../data/spam/model2')\n",
    "#else:\n",
    "#    model = tf.keras.models.load_model('../data/spam/model2')\n"
   ]
  }
 ],
 "metadata": {
  "interpreter": {
   "hash": "2db524e06e9f5f4ffedc911c917cb75e12dbc923643829bf417064a77eb14d37"
  },
  "kernelspec": {
   "display_name": "Python 3.8.5 64-bit",
   "language": "python",
   "name": "python3"
  },
  "language_info": {
   "codemirror_mode": {
    "name": "ipython",
    "version": 3
   },
   "file_extension": ".py",
   "mimetype": "text/x-python",
   "name": "python",
   "nbconvert_exporter": "python",
   "pygments_lexer": "ipython3",
   "version": "3.8.5"
  },
  "orig_nbformat": 4
 },
 "nbformat": 4,
 "nbformat_minor": 2
}
